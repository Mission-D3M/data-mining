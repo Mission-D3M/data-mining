{
 "cells": [
  {
   "cell_type": "code",
   "execution_count": 1,
   "metadata": {},
   "outputs": [],
   "source": [
    "import geopandas as gpd\n",
    "import pandas as pd"
   ]
  },
  {
   "cell_type": "code",
   "execution_count": 2,
   "metadata": {},
   "outputs": [],
   "source": [
    "demol_per_granted=gpd.read_file('shapefiles/demolition_permit_granted/demolition_permit_granted.shp')"
   ]
  },
  {
   "cell_type": "code",
   "execution_count": 3,
   "metadata": {},
   "outputs": [
    {
     "name": "stdout",
     "output_type": "stream",
     "text": [
      "<class 'geopandas.geodataframe.GeoDataFrame'>\n",
      "RangeIndex: 789 entries, 0 to 788\n",
      "Data columns (total 10 columns):\n",
      "id            789 non-null object\n",
      "identifica    789 non-null int64\n",
      "bouwjaar      789 non-null int64\n",
      "status        789 non-null object\n",
      "gebruiksdo    374 non-null object\n",
      "oppervlakt    789 non-null int64\n",
      "oppervla_1    789 non-null int64\n",
      "aantal_ver    789 non-null int64\n",
      "actualitei    0 non-null object\n",
      "geometry      789 non-null geometry\n",
      "dtypes: geometry(1), int64(5), object(4)\n",
      "memory usage: 61.8+ KB\n"
     ]
    }
   ],
   "source": [
    "demol_per_granted.info()\n",
    "\n",
    "#we need to clean 2 columns "
   ]
  },
  {
   "cell_type": "code",
   "execution_count": 4,
   "metadata": {},
   "outputs": [],
   "source": [
    "#converting the column gebruiksdo having null values to string type\n",
    "demol_per_granted['gebruiksdo']=demol_per_granted['gebruiksdo'].astype(str)"
   ]
  },
  {
   "cell_type": "code",
   "execution_count": 5,
   "metadata": {},
   "outputs": [
    {
     "data": {
      "text/html": [
       "<div>\n",
       "<style scoped>\n",
       "    .dataframe tbody tr th:only-of-type {\n",
       "        vertical-align: middle;\n",
       "    }\n",
       "\n",
       "    .dataframe tbody tr th {\n",
       "        vertical-align: top;\n",
       "    }\n",
       "\n",
       "    .dataframe thead th {\n",
       "        text-align: right;\n",
       "    }\n",
       "</style>\n",
       "<table border=\"1\" class=\"dataframe\">\n",
       "  <thead>\n",
       "    <tr style=\"text-align: right;\">\n",
       "      <th></th>\n",
       "      <th>id</th>\n",
       "      <th>identifica</th>\n",
       "      <th>bouwjaar</th>\n",
       "      <th>status</th>\n",
       "      <th>gebruiksdo</th>\n",
       "      <th>oppervlakt</th>\n",
       "      <th>oppervla_1</th>\n",
       "      <th>aantal_ver</th>\n",
       "      <th>actualitei</th>\n",
       "      <th>geometry</th>\n",
       "    </tr>\n",
       "  </thead>\n",
       "  <tbody>\n",
       "    <tr>\n",
       "      <th>0</th>\n",
       "      <td>pand.2174299</td>\n",
       "      <td>1783100000004027</td>\n",
       "      <td>1973</td>\n",
       "      <td>Sloopvergunning verleend</td>\n",
       "      <td>woonfunctie</td>\n",
       "      <td>187</td>\n",
       "      <td>187</td>\n",
       "      <td>1</td>\n",
       "      <td>None</td>\n",
       "      <td>POLYGON Z ((73648.140 451090.143 0.000, 73637....</td>\n",
       "    </tr>\n",
       "    <tr>\n",
       "      <th>1</th>\n",
       "      <td>pand.2174306</td>\n",
       "      <td>1783100000004037</td>\n",
       "      <td>2004</td>\n",
       "      <td>Sloopvergunning verleend</td>\n",
       "      <td>None</td>\n",
       "      <td>0</td>\n",
       "      <td>0</td>\n",
       "      <td>0</td>\n",
       "      <td>None</td>\n",
       "      <td>POLYGON Z ((73628.421 451099.028 0.000, 73617....</td>\n",
       "    </tr>\n",
       "    <tr>\n",
       "      <th>2</th>\n",
       "      <td>pand.2174478</td>\n",
       "      <td>1783100000004225</td>\n",
       "      <td>1965</td>\n",
       "      <td>Sloopvergunning verleend</td>\n",
       "      <td>woonfunctie</td>\n",
       "      <td>95</td>\n",
       "      <td>95</td>\n",
       "      <td>1</td>\n",
       "      <td>None</td>\n",
       "      <td>POLYGON Z ((71397.997 448579.317 0.000, 71396....</td>\n",
       "    </tr>\n",
       "    <tr>\n",
       "      <th>3</th>\n",
       "      <td>pand.2174896</td>\n",
       "      <td>1783100000004674</td>\n",
       "      <td>1964</td>\n",
       "      <td>Sloopvergunning verleend</td>\n",
       "      <td>None</td>\n",
       "      <td>0</td>\n",
       "      <td>0</td>\n",
       "      <td>0</td>\n",
       "      <td>None</td>\n",
       "      <td>POLYGON Z ((73625.450 442929.408 0.000, 73565....</td>\n",
       "    </tr>\n",
       "    <tr>\n",
       "      <th>4</th>\n",
       "      <td>pand.2174945</td>\n",
       "      <td>1783100000004728</td>\n",
       "      <td>1961</td>\n",
       "      <td>Sloopvergunning verleend</td>\n",
       "      <td>woonfunctie</td>\n",
       "      <td>143</td>\n",
       "      <td>143</td>\n",
       "      <td>1</td>\n",
       "      <td>None</td>\n",
       "      <td>POLYGON Z ((72449.563 448985.736 0.000, 72446....</td>\n",
       "    </tr>\n",
       "  </tbody>\n",
       "</table>\n",
       "</div>"
      ],
      "text/plain": [
       "             id        identifica  bouwjaar                    status  \\\n",
       "0  pand.2174299  1783100000004027      1973  Sloopvergunning verleend   \n",
       "1  pand.2174306  1783100000004037      2004  Sloopvergunning verleend   \n",
       "2  pand.2174478  1783100000004225      1965  Sloopvergunning verleend   \n",
       "3  pand.2174896  1783100000004674      1964  Sloopvergunning verleend   \n",
       "4  pand.2174945  1783100000004728      1961  Sloopvergunning verleend   \n",
       "\n",
       "    gebruiksdo  oppervlakt  oppervla_1  aantal_ver actualitei  \\\n",
       "0  woonfunctie         187         187           1       None   \n",
       "1         None           0           0           0       None   \n",
       "2  woonfunctie          95          95           1       None   \n",
       "3         None           0           0           0       None   \n",
       "4  woonfunctie         143         143           1       None   \n",
       "\n",
       "                                            geometry  \n",
       "0  POLYGON Z ((73648.140 451090.143 0.000, 73637....  \n",
       "1  POLYGON Z ((73628.421 451099.028 0.000, 73617....  \n",
       "2  POLYGON Z ((71397.997 448579.317 0.000, 71396....  \n",
       "3  POLYGON Z ((73625.450 442929.408 0.000, 73565....  \n",
       "4  POLYGON Z ((72449.563 448985.736 0.000, 72446....  "
      ]
     },
     "execution_count": 5,
     "metadata": {},
     "output_type": "execute_result"
    }
   ],
   "source": [
    "demol_per_granted.head()"
   ]
  },
  {
   "cell_type": "code",
   "execution_count": 7,
   "metadata": {},
   "outputs": [
    {
     "data": {
      "text/plain": [
       "Index(['id', 'identifica', 'bouwjaar', 'status', 'gebruiksdo', 'oppervlakt',\n",
       "       'oppervla_1', 'aantal_ver', 'actualitei', 'geometry'],\n",
       "      dtype='object')"
      ]
     },
     "execution_count": 7,
     "metadata": {},
     "output_type": "execute_result"
    }
   ],
   "source": [
    "demol_per_granted.columns\n",
    "\n",
    "#id, identifier, constuction year, status, usage, square mts,square mts, number of floors,current events, geometry"
   ]
  },
  {
   "cell_type": "code",
   "execution_count": 8,
   "metadata": {},
   "outputs": [],
   "source": [
    "#dropping the column actualitei having all null values in it\n",
    "clean_data_granted=demol_per_granted.drop(columns=['actualitei'],axis=1)"
   ]
  },
  {
   "cell_type": "code",
   "execution_count": 9,
   "metadata": {},
   "outputs": [
    {
     "name": "stdout",
     "output_type": "stream",
     "text": [
      "<class 'geopandas.geodataframe.GeoDataFrame'>\n",
      "RangeIndex: 789 entries, 0 to 788\n",
      "Data columns (total 9 columns):\n",
      "id            789 non-null object\n",
      "identifica    789 non-null int64\n",
      "bouwjaar      789 non-null int64\n",
      "status        789 non-null object\n",
      "gebruiksdo    789 non-null object\n",
      "oppervlakt    789 non-null int64\n",
      "oppervla_1    789 non-null int64\n",
      "aantal_ver    789 non-null int64\n",
      "geometry      789 non-null geometry\n",
      "dtypes: geometry(1), int64(5), object(3)\n",
      "memory usage: 55.6+ KB\n"
     ]
    }
   ],
   "source": [
    "clean_data_granted.info()"
   ]
  },
  {
   "cell_type": "code",
   "execution_count": 11,
   "metadata": {},
   "outputs": [],
   "source": [
    "clean_data_granted.to_csv('demolition_permit_granted_data.csv',index=False)"
   ]
  }
 ],
 "metadata": {
  "kernelspec": {
   "display_name": "Python 3",
   "language": "python",
   "name": "python3"
  },
  "language_info": {
   "codemirror_mode": {
    "name": "ipython",
    "version": 3
   },
   "file_extension": ".py",
   "mimetype": "text/x-python",
   "name": "python",
   "nbconvert_exporter": "python",
   "pygments_lexer": "ipython3",
   "version": "3.7.3"
  }
 },
 "nbformat": 4,
 "nbformat_minor": 2
}
